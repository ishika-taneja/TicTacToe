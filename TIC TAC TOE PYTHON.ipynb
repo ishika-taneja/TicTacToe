{
 "cells": [
  {
   "cell_type": "code",
   "execution_count": 1,
   "id": "8d3ed773",
   "metadata": {},
   "outputs": [],
   "source": [
    "from IPython.display import clear_output\n",
    "\n",
    "def display_game(game_list):\n",
    "    \n",
    "    print(' ' + game_list[7] + ' | ' + game_list[8] + ' | ' + game_list[9])\n",
    "    print(\"---|---|---\")\n",
    "    print(' ' + game_list[4] + ' | ' + game_list[5] + ' | ' + game_list[6])\n",
    "    print(\"---|---|---\")\n",
    "    print(' ' + game_list[1] + ' | ' + game_list[2] + ' | ' + game_list[3])"
   ]
  },
  {
   "cell_type": "code",
   "execution_count": 2,
   "id": "05fb0a55",
   "metadata": {},
   "outputs": [],
   "source": [
    "def player_input():\n",
    "    \n",
    "    mark = \"incorrect\"\n",
    "    while mark not in ['X','O']:\n",
    "        mark = input(\"Do you want to play with O or X? \")\n",
    "        if mark not in ['X','O']:\n",
    "            print(\"Sorry, I didn't get that. Please enter O or X\")\n",
    "    return mark"
   ]
  },
  {
   "cell_type": "code",
   "execution_count": 3,
   "id": "32ce774a",
   "metadata": {},
   "outputs": [],
   "source": [
    "def place_marker(game_list, marker, position):\n",
    "    \n",
    "    game_list[position] = marker"
   ]
  },
  {
   "cell_type": "code",
   "execution_count": 4,
   "id": "df6c1874",
   "metadata": {},
   "outputs": [],
   "source": [
    "def win_check(game_list, mark):\n",
    "    \n",
    "    #horizontal\n",
    "    for i in [1,4,7]:\n",
    "        if game_list[i] == game_list[i+1] == game_list[i+2] == mark:\n",
    "            return True\n",
    "    \n",
    "    #vertical\n",
    "    for i in [1,2,3]:\n",
    "        if game_list[i] == game_list[i+3] == game_list[i+6] == mark:\n",
    "            return True\n",
    "    \n",
    "    #diagonal\n",
    "    if game_list[1] == game_list[5] == game_list[9] == mark:\n",
    "        return True\n",
    "    \n",
    "    if game_list[3] == game_list[5] == game_list[7] == mark:\n",
    "        return True\n",
    "    \n",
    "    return False"
   ]
  },
  {
   "cell_type": "code",
   "execution_count": 5,
   "id": "49abac9d",
   "metadata": {},
   "outputs": [],
   "source": [
    "import random\n",
    "\n",
    "def choose_first():\n",
    "    \n",
    "    if random.randint(1,2) == 1:\n",
    "        return \"Player 1\"\n",
    "    else:\n",
    "        return \"Player 2\"\n"
   ]
  },
  {
   "cell_type": "code",
   "execution_count": 6,
   "id": "e7a69401",
   "metadata": {},
   "outputs": [],
   "source": [
    "def space_check(game_list, position):\n",
    "    \n",
    "    if game_list[position] == 'X' or game_list[position] == 'O':\n",
    "        return False\n",
    "    return True"
   ]
  },
  {
   "cell_type": "code",
   "execution_count": 7,
   "id": "1b92787d",
   "metadata": {},
   "outputs": [],
   "source": [
    "def full_board_check(game_list):\n",
    "    \n",
    "    for position in range(1,10):\n",
    "        if space_check(game_list,position):\n",
    "            return False\n",
    "    return True"
   ]
  },
  {
   "cell_type": "code",
   "execution_count": 8,
   "id": "84cd1e46",
   "metadata": {},
   "outputs": [],
   "source": [
    "def player_choice(game_list):\n",
    "    \n",
    "    position = \"incorrect\"\n",
    "    valid = [\"0\",\"1\",\"2\",\"3\",\"4\",\"5\",\"6\",\"7\",\"8\",\"9\"]\n",
    "    while position not in valid:\n",
    "        print(\"\\n\")\n",
    "        display_game(valid)\n",
    "        position = (input(\"Please enter position (1-9) to mark according to the given format\"))\n",
    "        if position not in valid:\n",
    "            print(\"Invalid input. Please enter a number between 1 and 9\")\n",
    "        else:\n",
    "            if not space_check(game_list,int(position)):\n",
    "                print(\"That position is already filled. Please choose a different position.\")\n",
    "                position = \"incorrect\"\n",
    "    \n",
    "    return int(position)"
   ]
  },
  {
   "cell_type": "code",
   "execution_count": 9,
   "id": "46fd31f3",
   "metadata": {},
   "outputs": [],
   "source": [
    "def replay():\n",
    "    \n",
    "    play = \"incorrect\"\n",
    "    while play not in ['Y','N']:\n",
    "        play = input(\"Do you want to play again? Y or N \")\n",
    "        if play not in ['Y','N']:\n",
    "            print(\"Sorry I didn't get that. Please enter Y for Yes and N for No.\")\n",
    "    if play == 'Y':\n",
    "        return True\n",
    "    else:\n",
    "        return False"
   ]
  },
  {
   "cell_type": "code",
   "execution_count": null,
   "id": "1aa4d788",
   "metadata": {},
   "outputs": [
    {
     "name": "stdout",
     "output_type": "stream",
     "text": [
      "Welcome to Tic Tac Toe!\n",
      "   |   |  \n",
      "---|---|---\n",
      "   |   |  \n",
      "---|---|---\n",
      "   |   |  \n",
      "Player 2 goes first\n",
      "Do you want to play with O or X? O\n",
      "\n",
      "\n",
      " 7 | 8 | 9\n",
      "---|---|---\n",
      " 4 | 5 | 6\n",
      "---|---|---\n",
      " 1 | 2 | 3\n"
     ]
    }
   ],
   "source": [
    "print('Welcome to Tic Tac Toe!')\n",
    "\n",
    "while True:\n",
    "    \n",
    "    game_list = [' ',' ',' ',' ',' ',' ',' ',' ',' ',' ']\n",
    "    display_game(game_list)\n",
    "    \n",
    "    first = choose_first()\n",
    "    \n",
    "    if first == \"Player 1\":\n",
    "        second = \"Player 2\"\n",
    "    else:\n",
    "        second = \"Player 1\"\n",
    "    \n",
    "    print(f\"{first} goes first\")\n",
    "    marker = player_input()\n",
    "    marker1 = \"\"\n",
    "    \n",
    "    if marker == 'X':\n",
    "        marker1 = 'O'\n",
    "    else:\n",
    "        marker1 = 'X'\n",
    "    \n",
    "    while True:\n",
    "        \n",
    "        if full_board_check(game_list):\n",
    "            print(\"It's a draw. Game over\")\n",
    "            break\n",
    "        \n",
    "        #turn 1\n",
    "        \n",
    "        position = player_choice(game_list)\n",
    "        place_marker(game_list, marker, position)\n",
    "        clear_output()\n",
    "        display_game(game_list)\n",
    "        \n",
    "        if win_check(game_list, marker):\n",
    "            print(f\"{first} wins\")\n",
    "            break\n",
    "        \n",
    "        if full_board_check(game_list):\n",
    "            print(\"It's a draw. Game over\")\n",
    "            break\n",
    "        \n",
    "        #turn 2\n",
    "        \n",
    "        position = player_choice(game_list)\n",
    "        place_marker(game_list, marker1, position)\n",
    "        clear_output()\n",
    "        display_game(game_list)\n",
    "        \n",
    "        if win_check(game_list, marker1):\n",
    "            print(f\"{second} wins\")\n",
    "            break\n",
    "            \n",
    "\n",
    "    if not replay():\n",
    "        break"
   ]
  }
 ],
 "metadata": {
  "kernelspec": {
   "display_name": "Python 3",
   "language": "python",
   "name": "python3"
  },
  "language_info": {
   "codemirror_mode": {
    "name": "ipython",
    "version": 3
   },
   "file_extension": ".py",
   "mimetype": "text/x-python",
   "name": "python",
   "nbconvert_exporter": "python",
   "pygments_lexer": "ipython3",
   "version": "3.9.5"
  }
 },
 "nbformat": 4,
 "nbformat_minor": 5
}
